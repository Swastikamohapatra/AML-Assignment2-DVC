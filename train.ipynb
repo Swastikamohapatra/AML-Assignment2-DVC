{
 "cells": [
  {
   "cell_type": "code",
   "execution_count": 1,
   "metadata": {},
   "outputs": [],
   "source": [
    "import mlflow\n",
    "import pandas as pd\n",
    "from sklearn.feature_extraction.text import TfidfVectorizer\n",
    "from sklearn.linear_model import LogisticRegression\n",
    "from sklearn.pipeline import Pipeline\n",
    "from sklearn.model_selection import GridSearchCV\n",
    "from sklearn.metrics import classification_report, ConfusionMatrixDisplay, confusion_matrix, auc, precision_recall_curve\n",
    "import matplotlib.pyplot as plt\n",
    "from sklearn.ensemble import RandomForestClassifier\n",
    "from sklearn.tree import DecisionTreeClassifier\n",
    "from sklearn.model_selection import StratifiedKFold\n",
    "from mlflow.sklearn import log_model\n",
    "import warnings\n"
   ]
  },
  {
   "cell_type": "code",
   "execution_count": 3,
   "metadata": {},
   "outputs": [],
   "source": [
    "warnings.filterwarnings(\"ignore\")"
   ]
  },
  {
   "cell_type": "code",
   "execution_count": 4,
   "metadata": {},
   "outputs": [],
   "source": [
    "train = pd.read_csv(\"train.csv\")\n",
    "X_train, y_train = train['text'], train['spam']\n",
    "\n",
    "test = pd.read_csv(\"test.csv\")\n",
    "X_test, y_test = test['text'], test['spam']\n",
    "\n",
    "val = pd.read_csv(\"validation.csv\")\n",
    "X_val, y_val = val['text'], val['spam']"
   ]
  },
  {
   "cell_type": "code",
   "execution_count": 5,
   "metadata": {},
   "outputs": [
    {
     "name": "stderr",
     "output_type": "stream",
     "text": [
      "2024/02/21 18:33:37 INFO mlflow.tracking.fluent: Experiment with name 'spam_classification_experiment' does not exist. Creating a new experiment.\n"
     ]
    },
    {
     "name": "stdout",
     "output_type": "stream",
     "text": [
      "Decision_Tree AUC-PR: 0.9356442447807276\n"
     ]
    },
    {
     "name": "stderr",
     "output_type": "stream",
     "text": [
      "Successfully registered model 'Decision_Tree'.\n",
      "Created version '1' of model 'Decision_Tree'.\n"
     ]
    },
    {
     "name": "stdout",
     "output_type": "stream",
     "text": [
      "Logistic_Regression AUC-PR: 0.9962349363606858\n"
     ]
    },
    {
     "name": "stderr",
     "output_type": "stream",
     "text": [
      "Successfully registered model 'Logistic_Regression'.\n",
      "Created version '1' of model 'Logistic_Regression'.\n"
     ]
    },
    {
     "name": "stdout",
     "output_type": "stream",
     "text": [
      "Random_Forest AUC-PR: 0.9932400930668956\n"
     ]
    },
    {
     "name": "stderr",
     "output_type": "stream",
     "text": [
      "Successfully registered model 'Random_Forest'.\n",
      "Created version '1' of model 'Random_Forest'.\n"
     ]
    }
   ],
   "source": [
    "# Set MLflow experiment name\n",
    "mlflow.set_experiment(\"spam_classification_experiment\")\n",
    "\n",
    "# Define benchmark models\n",
    "models = {\n",
    "    \"Decision_Tree\": DecisionTreeClassifier(),\n",
    "    \"Logistic_Regression\": LogisticRegression(),\n",
    "    \"Random_Forest\": RandomForestClassifier()\n",
    "}\n",
    "\n",
    "# Loop through each model\n",
    "for model_name, model in models.items():\n",
    "    with mlflow.start_run(run_name=model_name):\n",
    "        # Build and train the model\n",
    "        pipeline = Pipeline([\n",
    "            ('tfidf', TfidfVectorizer(max_features=2000)),\n",
    "            ('clf', model),\n",
    "        ])\n",
    "        pipeline.fit(X_train, y_train)\n",
    "        \n",
    "        \n",
    "        \n",
    "        # Predict probabilities on the test set\n",
    "        y_proba = pipeline.predict_proba(X_test)[:, 1]\n",
    "        \n",
    "        # Calculate precision-recall curve\n",
    "        precision, recall, _ = precision_recall_curve(y_test, y_proba)\n",
    "        \n",
    "        # Calculate AUC-PR\n",
    "        auc_pr = auc(recall, precision)\n",
    "\n",
    "        # Log parameters and metrics\n",
    "        mlflow.log_params(model.get_params())\n",
    "        mlflow.log_metric(\"AUCPR\", auc_pr)\n",
    "        mlflow.sklearn.log_model(pipeline, \"model\")\n",
    "        \n",
    "\n",
    "        print(f\"{model_name} AUC-PR: {auc_pr}\")\n",
    "\n",
    "        # Register the model\n",
    "        mlflow.register_model(mlflow.get_artifact_uri(\"model\"),model_name)\n",
    "\n"
   ]
  }
 ],
 "metadata": {
  "kernelspec": {
   "display_name": "Python 3",
   "language": "python",
   "name": "python3"
  },
  "language_info": {
   "codemirror_mode": {
    "name": "ipython",
    "version": 3
   },
   "file_extension": ".py",
   "mimetype": "text/x-python",
   "name": "python",
   "nbconvert_exporter": "python",
   "pygments_lexer": "ipython3",
   "version": "3.11.2"
  }
 },
 "nbformat": 4,
 "nbformat_minor": 2
}
